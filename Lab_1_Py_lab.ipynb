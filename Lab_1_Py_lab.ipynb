{
  "nbformat": 4,
  "nbformat_minor": 0,
  "metadata": {
    "colab": {
      "name": "Lab 1 Py lab ",
      "provenance": [],
      "toc_visible": true,
      "authorship_tag": "ABX9TyNCsAo3u791E8KU39ujJMeg",
      "include_colab_link": true
    },
    "kernelspec": {
      "name": "python3",
      "display_name": "Python 3"
    },
    "language_info": {
      "name": "python"
    }
  },
  "cells": [
    {
      "cell_type": "markdown",
      "metadata": {
        "id": "view-in-github",
        "colab_type": "text"
      },
      "source": [
        "<a href=\"https://colab.research.google.com/github/crtrianac/LabsPython/blob/main/Lab_1_Py_lab.ipynb\" target=\"_parent\"><img src=\"https://colab.research.google.com/assets/colab-badge.svg\" alt=\"Open In Colab\"/></a>"
      ]
    },
    {
      "cell_type": "markdown",
      "source": [
        "# Morning lab\n"
      ],
      "metadata": {
        "id": "zwzOXZJVMIlp"
      }
    },
    {
      "cell_type": "code",
      "execution_count": null,
      "metadata": {
        "colab": {
          "base_uri": "https://localhost:8080/"
        },
        "id": "dgCT4sHa7YSy",
        "outputId": "95a58e07-03c0-4283-a6ae-42c929eecc3f"
      },
      "outputs": [
        {
          "output_type": "stream",
          "name": "stdout",
          "text": [
            "Drive already mounted at /content/drive; to attempt to forcibly remount, call drive.mount(\"/content/drive\", force_remount=True).\n"
          ]
        }
      ],
      "source": [
        "#connecting API\n",
        "import requests\n",
        "import json\n",
        "import pandas as pd\n",
        "from sklearn import datasets\n",
        "from google.colab import drive\n",
        "drive.mount('/content/drive')\n"
      ]
    },
    {
      "cell_type": "code",
      "source": [
        "!ls #list all files of  current directory \n",
        "!pwd #current directory \n",
        "!cd /content/drive/MyDrive/DataScience Master/PythonLabs/Lab1 #move directory"
      ],
      "metadata": {
        "colab": {
          "base_uri": "https://localhost:8080/"
        },
        "id": "Ftr3gkwm7lA4",
        "outputId": "c8bcfbef-b4ee-466d-ff5e-26f841a066d3"
      },
      "execution_count": null,
      "outputs": [
        {
          "output_type": "stream",
          "name": "stdout",
          "text": [
            "drive  sample_data\n",
            "/bin/bash: line 0: cd: too many arguments\n"
          ]
        }
      ]
    },
    {
      "cell_type": "code",
      "source": [
        "#get the file form the skileanr library\n",
        "iris = datasets.load_iris()\n"
      ],
      "metadata": {
        "id": "cSGhbOws-okx"
      },
      "execution_count": null,
      "outputs": []
    },
    {
      "cell_type": "code",
      "source": [
        "#get the ds with wget\n",
        "!wget https://archive.ics.uci.edu/ml/machine-learning-databases/iris/iris.data\n",
        "!ls # check files "
      ],
      "metadata": {
        "id": "m7m0Of_C_SRd"
      },
      "execution_count": null,
      "outputs": []
    },
    {
      "cell_type": "code",
      "source": [
        "!mv iris.data.1 /content/drive/MyDrive/DataScience/PythonLabs/Lab1 #move data to GD"
      ],
      "metadata": {
        "id": "f_vhsQM5CN8o"
      },
      "execution_count": null,
      "outputs": []
    },
    {
      "cell_type": "code",
      "source": [
        "db1= pd.read_csv('/content/drive/MyDrive/DataScience/PythonLabs/Lab1/iris.data.1')\n",
        "db1"
      ],
      "metadata": {
        "id": "IJJGXjgrEzAl"
      },
      "execution_count": null,
      "outputs": []
    },
    {
      "cell_type": "markdown",
      "source": [
        "Defining a funtion"
      ],
      "metadata": {
        "id": "IXVVMlNxCMRE"
      }
    },
    {
      "cell_type": "code",
      "source": [
        "name= \"Cristian\"\n",
        "age= 8\n",
        "Adgetive_age = \"I dont know\"\n",
        "if age>18: \n",
        "  Adgetive_age= \"an old asshole!\"\n",
        "else:\n",
        "    Adgetive_age= \"a baby!\"\n",
        "\n",
        "\n",
        "def Concatinate_fun(name, age):\n",
        "  print (f\"Hello my name is {name}! I am {age} years old. God I am {Adgetive_age}\")\n",
        "\n",
        "Concatinate_fun(name,age)"
      ],
      "metadata": {
        "colab": {
          "base_uri": "https://localhost:8080/"
        },
        "id": "gr_YM7Y3ID8x",
        "outputId": "4d0e7d7b-080b-4e02-c09c-29729edc556d"
      },
      "execution_count": 42,
      "outputs": [
        {
          "output_type": "stream",
          "name": "stdout",
          "text": [
            "Hello my name is Cristian! I am 8 years old. God I am a baby!\n"
          ]
        }
      ]
    }
  ]
}